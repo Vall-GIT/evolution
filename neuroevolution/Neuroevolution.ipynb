{
  "cells": [
    {
      "cell_type": "markdown",
      "metadata": {
        "id": "xscsSfa9o7Pr"
      },
      "source": [
        "<img src=\"https://github.com/d9w/evolution/raw/master/imgs/logo.png\" width=\"20%\" align=\"right\" style=\"margin:0px 20px\">\n",
        "\n",
        "\n",
        "# Evolutionary Algorithms\n",
        "\n",
        "## Evolving Neural Networks with ES\n",
        "\n",
        "<a rel=\"license\" href=\"http://creativecommons.org/licenses/by-sa/4.0/\"><img alt=\"Creative Commons License\" align=\"left\" src=\"https://i.creativecommons.org/l/by-sa/4.0/80x15.png\" /></a>&nbsp;| Dennis G. Wilson, Yuri Lavinas, Paul Templier | <a href=\"https://d9w.github.io/evolution/\">https://d9w.github.io/evolution/</a>"
      ]
    },
    {
      "cell_type": "markdown",
      "metadata": {
        "id": "rMNoJjbeo7Ps"
      },
      "source": [
        "In order to visualize the environment in this notebook, you will need to install the following:"
      ]
    },
    {
      "cell_type": "code",
      "execution_count": 1,
      "metadata": {
        "id": "FhyloBHDo7Pt",
        "outputId": "6018dce4-5689-497b-b970-798d63bea941",
        "colab": {
          "base_uri": "https://localhost:8080/"
        }
      },
      "outputs": [
        {
          "output_type": "stream",
          "name": "stdout",
          "text": [
            "Reading package lists... Done\n",
            "Building dependency tree... Done\n",
            "Reading state information... Done\n",
            "The following additional packages will be installed:\n",
            "  libfontenc1 libxfont2 libxkbfile1 x11-xkb-utils xfonts-base xfonts-encodings xfonts-utils\n",
            "  xserver-common\n",
            "The following NEW packages will be installed:\n",
            "  libfontenc1 libxfont2 libxkbfile1 x11-xkb-utils xfonts-base xfonts-encodings xfonts-utils\n",
            "  xserver-common xvfb\n",
            "0 upgraded, 9 newly installed, 0 to remove and 29 not upgraded.\n",
            "Need to get 7,814 kB of archives.\n",
            "After this operation, 12.0 MB of additional disk space will be used.\n",
            "Get:1 http://archive.ubuntu.com/ubuntu jammy/main amd64 libfontenc1 amd64 1:1.1.4-1build3 [14.7 kB]\n",
            "Get:2 http://archive.ubuntu.com/ubuntu jammy/main amd64 libxfont2 amd64 1:2.0.5-1build1 [94.5 kB]\n",
            "Get:3 http://archive.ubuntu.com/ubuntu jammy/main amd64 libxkbfile1 amd64 1:1.1.0-1build3 [71.8 kB]\n",
            "Get:4 http://archive.ubuntu.com/ubuntu jammy/main amd64 x11-xkb-utils amd64 7.7+5build4 [172 kB]\n",
            "Get:5 http://archive.ubuntu.com/ubuntu jammy/main amd64 xfonts-encodings all 1:1.0.5-0ubuntu2 [578 kB]\n",
            "Get:6 http://archive.ubuntu.com/ubuntu jammy/main amd64 xfonts-utils amd64 1:7.7+6build2 [94.6 kB]\n",
            "Get:7 http://archive.ubuntu.com/ubuntu jammy/main amd64 xfonts-base all 1:1.0.5 [5,896 kB]\n",
            "Get:8 http://archive.ubuntu.com/ubuntu jammy-updates/main amd64 xserver-common all 2:21.1.4-2ubuntu1.7~22.04.13 [29.1 kB]\n",
            "Get:9 http://archive.ubuntu.com/ubuntu jammy-updates/universe amd64 xvfb amd64 2:21.1.4-2ubuntu1.7~22.04.13 [863 kB]\n",
            "Fetched 7,814 kB in 1s (8,855 kB/s)\n",
            "Selecting previously unselected package libfontenc1:amd64.\n",
            "(Reading database ... 126209 files and directories currently installed.)\n",
            "Preparing to unpack .../0-libfontenc1_1%3a1.1.4-1build3_amd64.deb ...\n",
            "Unpacking libfontenc1:amd64 (1:1.1.4-1build3) ...\n",
            "Selecting previously unselected package libxfont2:amd64.\n",
            "Preparing to unpack .../1-libxfont2_1%3a2.0.5-1build1_amd64.deb ...\n",
            "Unpacking libxfont2:amd64 (1:2.0.5-1build1) ...\n",
            "Selecting previously unselected package libxkbfile1:amd64.\n",
            "Preparing to unpack .../2-libxkbfile1_1%3a1.1.0-1build3_amd64.deb ...\n",
            "Unpacking libxkbfile1:amd64 (1:1.1.0-1build3) ...\n",
            "Selecting previously unselected package x11-xkb-utils.\n",
            "Preparing to unpack .../3-x11-xkb-utils_7.7+5build4_amd64.deb ...\n",
            "Unpacking x11-xkb-utils (7.7+5build4) ...\n",
            "Selecting previously unselected package xfonts-encodings.\n",
            "Preparing to unpack .../4-xfonts-encodings_1%3a1.0.5-0ubuntu2_all.deb ...\n",
            "Unpacking xfonts-encodings (1:1.0.5-0ubuntu2) ...\n",
            "Selecting previously unselected package xfonts-utils.\n",
            "Preparing to unpack .../5-xfonts-utils_1%3a7.7+6build2_amd64.deb ...\n",
            "Unpacking xfonts-utils (1:7.7+6build2) ...\n",
            "Selecting previously unselected package xfonts-base.\n",
            "Preparing to unpack .../6-xfonts-base_1%3a1.0.5_all.deb ...\n",
            "Unpacking xfonts-base (1:1.0.5) ...\n",
            "Selecting previously unselected package xserver-common.\n",
            "Preparing to unpack .../7-xserver-common_2%3a21.1.4-2ubuntu1.7~22.04.13_all.deb ...\n",
            "Unpacking xserver-common (2:21.1.4-2ubuntu1.7~22.04.13) ...\n",
            "Selecting previously unselected package xvfb.\n",
            "Preparing to unpack .../8-xvfb_2%3a21.1.4-2ubuntu1.7~22.04.13_amd64.deb ...\n",
            "Unpacking xvfb (2:21.1.4-2ubuntu1.7~22.04.13) ...\n",
            "Setting up libfontenc1:amd64 (1:1.1.4-1build3) ...\n",
            "Setting up xfonts-encodings (1:1.0.5-0ubuntu2) ...\n",
            "Setting up libxkbfile1:amd64 (1:1.1.0-1build3) ...\n",
            "Setting up libxfont2:amd64 (1:2.0.5-1build1) ...\n",
            "Setting up x11-xkb-utils (7.7+5build4) ...\n",
            "Setting up xfonts-utils (1:7.7+6build2) ...\n",
            "Setting up xfonts-base (1:1.0.5) ...\n",
            "Setting up xserver-common (2:21.1.4-2ubuntu1.7~22.04.13) ...\n",
            "Setting up xvfb (2:21.1.4-2ubuntu1.7~22.04.13) ...\n",
            "Processing triggers for man-db (2.10.2-1) ...\n",
            "Processing triggers for fontconfig (2.13.1-4.2ubuntu5) ...\n",
            "Processing triggers for libc-bin (2.35-0ubuntu3.8) ...\n",
            "/sbin/ldconfig.real: /usr/local/lib/libhwloc.so.15 is not a symbolic link\n",
            "\n",
            "/sbin/ldconfig.real: /usr/local/lib/libtcm.so.1 is not a symbolic link\n",
            "\n",
            "/sbin/ldconfig.real: /usr/local/lib/libtbbmalloc_proxy.so.2 is not a symbolic link\n",
            "\n",
            "/sbin/ldconfig.real: /usr/local/lib/libtbbbind_2_0.so.3 is not a symbolic link\n",
            "\n",
            "/sbin/ldconfig.real: /usr/local/lib/libtbbmalloc.so.2 is not a symbolic link\n",
            "\n",
            "/sbin/ldconfig.real: /usr/local/lib/libtbb.so.12 is not a symbolic link\n",
            "\n",
            "/sbin/ldconfig.real: /usr/local/lib/libur_adapter_opencl.so.0 is not a symbolic link\n",
            "\n",
            "/sbin/ldconfig.real: /usr/local/lib/libtbbbind.so.3 is not a symbolic link\n",
            "\n",
            "/sbin/ldconfig.real: /usr/local/lib/libtcm_debug.so.1 is not a symbolic link\n",
            "\n",
            "/sbin/ldconfig.real: /usr/local/lib/libur_adapter_level_zero.so.0 is not a symbolic link\n",
            "\n",
            "/sbin/ldconfig.real: /usr/local/lib/libur_loader.so.0 is not a symbolic link\n",
            "\n",
            "/sbin/ldconfig.real: /usr/local/lib/libumf.so.0 is not a symbolic link\n",
            "\n",
            "/sbin/ldconfig.real: /usr/local/lib/libtbbbind_2_5.so.3 is not a symbolic link\n",
            "\n"
          ]
        }
      ],
      "source": [
        "!apt-get install -y xvfb"
      ]
    },
    {
      "cell_type": "code",
      "execution_count": 2,
      "metadata": {
        "id": "wziNRz5to7Pt",
        "outputId": "cf64ea57-e090-49c7-ffe2-23fbced489b7",
        "colab": {
          "base_uri": "https://localhost:8080/"
        }
      },
      "outputs": [
        {
          "output_type": "stream",
          "name": "stdout",
          "text": [
            "Collecting cma\n",
            "  Downloading cma-4.0.0-py3-none-any.whl.metadata (8.0 kB)\n",
            "Collecting swig\n",
            "  Downloading swig-4.3.0-py2.py3-none-manylinux_2_5_x86_64.manylinux1_x86_64.whl.metadata (3.5 kB)\n",
            "Requirement already satisfied: numpy in /usr/local/lib/python3.11/dist-packages (from cma) (2.0.2)\n",
            "Downloading cma-4.0.0-py3-none-any.whl (283 kB)\n",
            "\u001b[2K   \u001b[90m━━━━━━━━━━━━━━━━━━━━━━━━━━━━━━━━━━━━━━━━\u001b[0m \u001b[32m283.5/283.5 kB\u001b[0m \u001b[31m4.9 MB/s\u001b[0m eta \u001b[36m0:00:00\u001b[0m\n",
            "\u001b[?25hDownloading swig-4.3.0-py2.py3-none-manylinux_2_5_x86_64.manylinux1_x86_64.whl (1.9 MB)\n",
            "\u001b[2K   \u001b[90m━━━━━━━━━━━━━━━━━━━━━━━━━━━━━━━━━━━━━━━━\u001b[0m \u001b[32m1.9/1.9 MB\u001b[0m \u001b[31m43.8 MB/s\u001b[0m eta \u001b[36m0:00:00\u001b[0m\n",
            "\u001b[?25hInstalling collected packages: swig, cma\n",
            "Successfully installed cma-4.0.0 swig-4.3.0\n"
          ]
        }
      ],
      "source": [
        "!pip install cma swig"
      ]
    },
    {
      "cell_type": "code",
      "source": [
        " !pip install pyvirtualdisplay gymnasium[box2d]"
      ],
      "metadata": {
        "id": "uj99QPfPq083",
        "outputId": "dec352c6-8a40-4468-b3b8-31d8c47fbe58",
        "colab": {
          "base_uri": "https://localhost:8080/"
        }
      },
      "execution_count": 3,
      "outputs": [
        {
          "output_type": "stream",
          "name": "stdout",
          "text": [
            "Collecting pyvirtualdisplay\n",
            "  Downloading PyVirtualDisplay-3.0-py3-none-any.whl.metadata (943 bytes)\n",
            "Requirement already satisfied: gymnasium[box2d] in /usr/local/lib/python3.11/dist-packages (1.1.1)\n",
            "Requirement already satisfied: numpy>=1.21.0 in /usr/local/lib/python3.11/dist-packages (from gymnasium[box2d]) (2.0.2)\n",
            "Requirement already satisfied: cloudpickle>=1.2.0 in /usr/local/lib/python3.11/dist-packages (from gymnasium[box2d]) (3.1.1)\n",
            "Requirement already satisfied: typing-extensions>=4.3.0 in /usr/local/lib/python3.11/dist-packages (from gymnasium[box2d]) (4.12.2)\n",
            "Requirement already satisfied: farama-notifications>=0.0.1 in /usr/local/lib/python3.11/dist-packages (from gymnasium[box2d]) (0.0.4)\n",
            "Collecting box2d-py==2.3.5 (from gymnasium[box2d])\n",
            "  Downloading box2d-py-2.3.5.tar.gz (374 kB)\n",
            "\u001b[2K     \u001b[90m━━━━━━━━━━━━━━━━━━━━━━━━━━━━━━━━━━━━━━━━\u001b[0m \u001b[32m374.4/374.4 kB\u001b[0m \u001b[31m5.9 MB/s\u001b[0m eta \u001b[36m0:00:00\u001b[0m\n",
            "\u001b[?25h  Preparing metadata (setup.py) ... \u001b[?25l\u001b[?25hdone\n",
            "Requirement already satisfied: pygame>=2.1.3 in /usr/local/lib/python3.11/dist-packages (from gymnasium[box2d]) (2.6.1)\n",
            "Requirement already satisfied: swig==4.* in /usr/local/lib/python3.11/dist-packages (from gymnasium[box2d]) (4.3.0)\n",
            "Downloading PyVirtualDisplay-3.0-py3-none-any.whl (15 kB)\n",
            "Building wheels for collected packages: box2d-py\n",
            "  Building wheel for box2d-py (setup.py) ... \u001b[?25l\u001b[?25hdone\n",
            "  Created wheel for box2d-py: filename=box2d_py-2.3.5-cp311-cp311-linux_x86_64.whl size=2379497 sha256=e8b8c36310c8d27f336b1cffeb759d3cbadcf3200b99754a6afe1bf475051fe7\n",
            "  Stored in directory: /root/.cache/pip/wheels/ab/f1/0c/d56f4a2bdd12bae0a0693ec33f2f0daadb5eb9753c78fa5308\n",
            "Successfully built box2d-py\n",
            "Installing collected packages: pyvirtualdisplay, box2d-py\n",
            "Successfully installed box2d-py-2.3.5 pyvirtualdisplay-3.0\n"
          ]
        }
      ]
    },
    {
      "cell_type": "code",
      "execution_count": null,
      "metadata": {
        "id": "mYHEMwqCo7Pt"
      },
      "outputs": [],
      "source": [
        "#!pip install torch"
      ]
    },
    {
      "cell_type": "markdown",
      "metadata": {
        "id": "6U8g1JLlo7Pu"
      },
      "source": [
        "# <a name=\"neuroevolution\">3.</a> ES for Neuroevolution"
      ]
    },
    {
      "cell_type": "markdown",
      "metadata": {
        "id": "-kFo__Oko7Pu"
      },
      "source": [
        "Evolutionary strategies are intended for continuous optimization and can easily be applied to the optimization of neural network parameters, or *neuroevolution*."
      ]
    },
    {
      "cell_type": "code",
      "execution_count": 4,
      "metadata": {
        "id": "ABKY7svxo7Pu"
      },
      "outputs": [],
      "source": [
        "import torch\n",
        "import torch.nn as nn\n",
        "import torch.nn.functional as F\n",
        "import torch.multiprocessing as mp\n",
        "import numpy as np\n",
        "import gymnasium as gym\n",
        "import time"
      ]
    },
    {
      "cell_type": "code",
      "execution_count": 76,
      "metadata": {
        "id": "dtG-vrkao7Pv"
      },
      "outputs": [],
      "source": [
        "class NeuralNetwork(nn.Module):\n",
        "\n",
        "    def __init__(self, input_shape, n_actions):\n",
        "        super(NeuralNetwork, self).__init__()\n",
        "        self.l1 = nn.Linear(input_shape, 64)\n",
        "        self.l2 = nn.Linear(64, 64)\n",
        "        self.l3 = nn.Linear(64, 64)\n",
        "        self.l4 = nn.Linear(64, 64)\n",
        "        self.lout = nn.Linear(64, n_actions)\n",
        "\n",
        "    def forward(self, x):\n",
        "        x = F.relu(self.l1(x.float()))\n",
        "        x = F.relu(self.l2(x))\n",
        "        x = F.relu(self.l3(x))\n",
        "        x = F.relu(self.l4(x))\n",
        "        return self.lout(x)\n",
        "\n",
        "    def get_params(self):\n",
        "        p = np.empty((0,))\n",
        "        for n in self.parameters():\n",
        "            p = np.append(p, n.flatten().cpu().detach().numpy())\n",
        "        return p\n",
        "\n",
        "    def set_params(self, x):\n",
        "        start = 0\n",
        "        for p in self.parameters():\n",
        "            e = start + np.prod(p.shape)\n",
        "            p.data = torch.FloatTensor(x[start:e]).reshape(p.shape)\n",
        "            start = e"
      ]
    },
    {
      "cell_type": "markdown",
      "metadata": {
        "id": "Ys8WPRh7o7Pv"
      },
      "source": [
        "We'll add some visualization functionality to have the environment render directly in the notebook."
      ]
    },
    {
      "cell_type": "code",
      "execution_count": 61,
      "metadata": {
        "id": "OdK60705o7Pv"
      },
      "outputs": [],
      "source": [
        "from pyvirtualdisplay import Display\n",
        "from IPython import display\n",
        "import matplotlib.pyplot as plt\n",
        "%matplotlib inline\n",
        "pydisplay = Display(visible=0, size=(1400, 900))\n",
        "pydisplay.start()\n",
        "plt.ion();"
      ]
    },
    {
      "cell_type": "markdown",
      "metadata": {
        "id": "8DdM7Fwmo7Pw"
      },
      "source": [
        "Following the framework of evolutionary policy search, we will optimize a neural network representing a policy and maximize the total reward over a single episode using this policy."
      ]
    },
    {
      "cell_type": "code",
      "execution_count": 62,
      "metadata": {
        "id": "Ef6Vc1g6o7Pw"
      },
      "outputs": [],
      "source": [
        "def evaluate(ann, env, visul=True):\n",
        "    obs, info = env.reset(seed=0)\n",
        "\n",
        "    # Create the figure and axis only once before starting\n",
        "    if visul:\n",
        "        plt.figure(figsize=(8, 6))\n",
        "        img = plt.imshow(env.render())\n",
        "        plt.axis('off')\n",
        "        plt.tight_layout()\n",
        "\n",
        "    total_reward = 0\n",
        "    while True:\n",
        "        # Output of the neural net\n",
        "        net_output = ann(torch.tensor(obs))\n",
        "        # the action is the value clipped returned by the nn\n",
        "        action = net_output.data.cpu().numpy().argmax()\n",
        "        obs, reward, done, truncated, info = env.step(action)\n",
        "        total_reward += reward\n",
        "\n",
        "        if visul:\n",
        "            img.set_data(env.render())\n",
        "            display.display(plt.gcf())\n",
        "            display.clear_output(wait=True)\n",
        "            # Small sleep to allow rendering to complete properly\n",
        "            time.sleep(0.01)\n",
        "\n",
        "        if done:\n",
        "            break\n",
        "\n",
        "    if visul:\n",
        "        plt.close()\n",
        "\n",
        "    return total_reward"
      ]
    },
    {
      "cell_type": "code",
      "source": [
        "import base64\n",
        "def evaluate_video(ann, env, visul=True):\n",
        "    obs, info = env.reset(seed=0)\n",
        "    total_reward = 0\n",
        "\n",
        "    if visul:\n",
        "        frames = []\n",
        "        frames.append(env.render())\n",
        "\n",
        "    while True:\n",
        "        net_output = ann(torch.tensor(obs))\n",
        "        action = net_output.data.cpu().numpy().argmax()\n",
        "        obs, reward, done, truncated, info = env.step(action)\n",
        "        total_reward += reward\n",
        "\n",
        "        if visul:\n",
        "            frames.append(env.render())\n",
        "\n",
        "        if done:\n",
        "            break\n",
        "\n",
        "    if visul:\n",
        "        # Convert frames to mp4 video\n",
        "        from moviepy.editor import ImageSequenceClip\n",
        "        from IPython.display import HTML\n",
        "\n",
        "        clip = ImageSequenceClip(frames, fps=20)\n",
        "        video_file = 'lunar_lander.mp4'\n",
        "        clip.write_videofile(video_file, fps=20)\n",
        "\n",
        "        # Display the video\n",
        "        with open(video_file, 'rb') as f:\n",
        "            video_data = f.read()\n",
        "\n",
        "        display.display(HTML(\"\"\"\n",
        "        <video width=\"640\" height=\"480\" controls autoplay>\n",
        "            <source src=\"data:video/mp4;base64,{0}\" type=\"video/mp4\">\n",
        "        </video>\n",
        "        \"\"\".format(base64.b64encode(video_data).decode())))\n",
        "\n",
        "    return total_reward"
      ],
      "metadata": {
        "id": "kdvyxi5mupen"
      },
      "execution_count": 63,
      "outputs": []
    },
    {
      "cell_type": "markdown",
      "metadata": {
        "id": "59T71pJpo7Pw"
      },
      "source": [
        "We've configured this for discrete action spaces. We can see a random neural network on different environments like `CartPole-v0`, `MountainCar-v0`, and `LunarLander-v2`."
      ]
    },
    {
      "cell_type": "code",
      "execution_count": 77,
      "metadata": {
        "id": "zCIn7l4zo7Pw"
      },
      "outputs": [],
      "source": [
        "env = gym.make('LunarLander-v3', render_mode='rgb_array')\n",
        "ann = NeuralNetwork(env.observation_space.shape[0], env.action_space.n)\n",
        "#On genere un reseau de neurones aleatoires ici"
      ]
    },
    {
      "cell_type": "code",
      "execution_count": 78,
      "metadata": {
        "colab": {
          "base_uri": "https://localhost:8080/",
          "height": 606
        },
        "id": "yXo6-crpo7Pw",
        "outputId": "ca14fb96-ff5c-4299-ad5d-0408c238490c"
      },
      "outputs": [
        {
          "output_type": "stream",
          "name": "stdout",
          "text": [
            "Moviepy - Building video lunar_lander.mp4.\n",
            "Moviepy - Writing video lunar_lander.mp4\n",
            "\n"
          ]
        },
        {
          "output_type": "stream",
          "name": "stderr",
          "text": []
        },
        {
          "output_type": "stream",
          "name": "stdout",
          "text": [
            "Moviepy - Done !\n",
            "Moviepy - video ready lunar_lander.mp4\n"
          ]
        },
        {
          "output_type": "display_data",
          "data": {
            "text/plain": [
              "<IPython.core.display.HTML object>"
            ],
            "text/html": [
              "\n",
              "        <video width=\"640\" height=\"480\" controls autoplay>\n",
              "            <source src=\"data:video/mp4;base64,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\" type=\"video/mp4\">\n",
              "        </video>\n",
              "        "
            ]
          },
          "metadata": {}
        },
        {
          "output_type": "execute_result",
          "data": {
            "text/plain": [
              "np.float64(-673.5885210140851)"
            ]
          },
          "metadata": {},
          "execution_count": 78
        }
      ],
      "source": [
        "evaluate_video(ann, env, visul=True)"
      ]
    },
    {
      "cell_type": "markdown",
      "metadata": {
        "id": "oaAbf0XSo7Pw"
      },
      "source": [
        "In order to evolve the parameters of this neural network, we will modify the parameters of the network using `set_params` with the genes of the new individual. In the evolutionary literature, this is referred to as a *direct encoding* as the neural network parameters are directly encoded in the genome."
      ]
    },
    {
      "cell_type": "code",
      "execution_count": 79,
      "metadata": {
        "id": "hFm6TDqwo7Px"
      },
      "outputs": [],
      "source": [
        "def fitness(x, ann, env, visul=False):\n",
        "    ann.set_params(x)\n",
        "    return -evaluate(ann, env, visul=visul)\n",
        "    #evaluation renvoie la fitness, les algorithmes utiliser minimise donc on met un moins"
      ]
    },
    {
      "cell_type": "code",
      "execution_count": 80,
      "metadata": {
        "id": "drvQzAUJo7Px",
        "outputId": "bf231722-f520-4556-c4ff-c9305c144fdd",
        "colab": {
          "base_uri": "https://localhost:8080/"
        }
      },
      "outputs": [
        {
          "output_type": "execute_result",
          "data": {
            "text/plain": [
              "(13316,)"
            ]
          },
          "metadata": {},
          "execution_count": 80
        }
      ],
      "source": [
        "p = ann.get_params()\n",
        "np.shape(p)\n",
        "#Beaucoup de parametres : 1476 (=8*32 + 32*32 + 32*4 + ...)"
      ]
    },
    {
      "cell_type": "markdown",
      "metadata": {
        "id": "E9W5141po7Px"
      },
      "source": [
        "We can first observe a random individual $x$."
      ]
    },
    {
      "cell_type": "code",
      "execution_count": 81,
      "metadata": {
        "id": "Pf7JsCeMo7Px",
        "outputId": "da1330fc-6966-40e1-80a2-1b646024f367",
        "colab": {
          "base_uri": "https://localhost:8080/",
          "height": 550
        }
      },
      "outputs": [
        {
          "output_type": "execute_result",
          "data": {
            "text/plain": [
              "np.float64(-119.05959591305864)"
            ]
          },
          "metadata": {},
          "execution_count": 81
        }
      ],
      "source": [
        "x = np.random.rand(len(p))\n",
        "-fitness(x, ann, env, visul=True)"
      ]
    },
    {
      "cell_type": "markdown",
      "metadata": {
        "id": "qg-zwRo2o7Px"
      },
      "source": [
        "Let's try optimizing the policy using the simple $(\\mu, \\lambda)$ ES we proposed."
      ]
    },
    {
      "cell_type": "code",
      "execution_count": 68,
      "metadata": {
        "id": "ni-v3IjDo7Px"
      },
      "outputs": [],
      "source": [
        "def mu_lambda(x, fitness, gens=200, lam=10, alpha=0.2, verbose=False):\n",
        "    x_best = x\n",
        "    f_best = fitness(x)\n",
        "    fits = np.zeros(gens)\n",
        "    for g in range(gens):\n",
        "        N = np.random.normal(size=(lam, len(x)))\n",
        "        F = np.zeros(lam)\n",
        "        for i in range(lam):\n",
        "            ind = x + N[i, :]\n",
        "            F[i] = fitness(ind)\n",
        "            if F[i] < f_best:\n",
        "                f_best = F[i]\n",
        "                x_best = ind\n",
        "                if verbose:\n",
        "                    print(g, \" \", f_best)\n",
        "        fits[g] = f_best\n",
        "        mu_f = np.mean(F)\n",
        "        std_f = np.std(F)\n",
        "        A = F\n",
        "        if std_f != 0:\n",
        "            A = (F - mu_f) / std_f\n",
        "        x = x - alpha * np.dot(A, N) / lam\n",
        "    return fits, x_best"
      ]
    },
    {
      "cell_type": "code",
      "execution_count": 69,
      "metadata": {
        "id": "r2IQPQuoo7Px",
        "outputId": "35ea5060-fc6f-493d-8847-57dbdaeb989b",
        "colab": {
          "base_uri": "https://localhost:8080/"
        }
      },
      "outputs": [
        {
          "output_type": "stream",
          "name": "stdout",
          "text": [
            "0   341.782694025281\n",
            "0   129.032312791221\n",
            "0   122.07944056061237\n",
            "2   116.16285526701837\n",
            "3   109.66231813129443\n",
            "7   53.06660642845468\n"
          ]
        }
      ],
      "source": [
        "np.random.seed(654)\n",
        "env = gym.make('LunarLander-v3', render_mode='rgb_array')\n",
        "ann = NeuralNetwork(env.observation_space.shape[0], env.action_space.n)\n",
        "x = np.random.randn(len(ann.get_params()))\n",
        "f = lambda x : fitness(x, ann, env)\n",
        "fits, x = mu_lambda(x, f, gens=10, lam=10, alpha=0.1, verbose=True)"
      ]
    },
    {
      "cell_type": "code",
      "execution_count": 70,
      "metadata": {
        "id": "q4ra9XbHo7Px",
        "outputId": "9967998a-d23b-4fcb-b4a1-d58c121e6860",
        "colab": {
          "base_uri": "https://localhost:8080/"
        }
      },
      "outputs": [
        {
          "output_type": "execute_result",
          "data": {
            "text/plain": [
              "array([122.07944056, 122.07944056, 116.16285527, 109.66231813,\n",
              "       109.66231813, 109.66231813, 109.66231813,  53.06660643,\n",
              "        53.06660643,  53.06660643])"
            ]
          },
          "metadata": {},
          "execution_count": 70
        }
      ],
      "source": [
        "fits"
      ]
    },
    {
      "cell_type": "code",
      "execution_count": 71,
      "metadata": {
        "id": "X8JX8zS4o7Py",
        "outputId": "c208e4ba-22ba-46ec-eac4-492e1a49ebaf",
        "colab": {
          "base_uri": "https://localhost:8080/",
          "height": 430
        }
      },
      "outputs": [
        {
          "output_type": "display_data",
          "data": {
            "text/plain": [
              "<Figure size 640x480 with 1 Axes>"
            ],
            "image/png": "[encoded data removed]"
          },
          "metadata": {}
        }
      ],
      "source": [
        "plt.plot(fits);"
      ]
    },
    {
      "cell_type": "code",
      "execution_count": 55,
      "metadata": {
        "id": "YhdkKzUvo7Py",
        "outputId": "c9f5cdc9-a86a-4208-bdf9-9043c8b765ae",
        "colab": {
          "base_uri": "https://localhost:8080/",
          "height": 550
        }
      },
      "outputs": [
        {
          "output_type": "execute_result",
          "data": {
            "text/plain": [
              "np.float64(-41.07745981749062)"
            ]
          },
          "metadata": {},
          "execution_count": 55
        }
      ],
      "source": [
        "-fitness(x, ann, env, visul=True)"
      ]
    },
    {
      "cell_type": "markdown",
      "metadata": {
        "id": "eXuGnNQvo7Py"
      },
      "source": [
        "# CMA-ES for Neuroevolution"
      ]
    },
    {
      "cell_type": "markdown",
      "metadata": {
        "id": "5TPByeGlo7Py"
      },
      "source": [
        "We will now use CMA-ES for the Lunar Lander problem"
      ]
    },
    {
      "cell_type": "code",
      "execution_count": 82,
      "metadata": {
        "id": "OYPW3MpQo7Py",
        "outputId": "bf28fcf9-8523-4c76-9414-9aedf4ffbdae",
        "colab": {
          "base_uri": "https://localhost:8080/"
        }
      },
      "outputs": [
        {
          "output_type": "stream",
          "name": "stdout",
          "text": [
            "(16_w,32)-aCMA-ES (mu_w=9.2,w_1=19%) in dimension 13316 (seed=123, Wed Mar 26 10:27:23 2025)\n"
          ]
        }
      ],
      "source": [
        "import cma\n",
        "np.random.seed(123)\n",
        "env = gym.make('LunarLander-v3', render_mode='rgb_array')\n",
        "ann = NeuralNetwork(env.observation_space.shape[0], env.action_space.n)\n",
        "es = cma.CMAEvolutionStrategy(len(ann.get_params()) * [0], 0.1, {'seed': 123})"
      ]
    },
    {
      "cell_type": "code",
      "execution_count": 86,
      "metadata": {
        "id": "sF-mpwrXo7Py",
        "outputId": "62f00b1a-c1c2-46f1-de29-5ac6929468fd",
        "colab": {
          "base_uri": "https://localhost:8080/"
        }
      },
      "outputs": [
        {
          "output_type": "stream",
          "name": "stdout",
          "text": [
            "   23    736 -6.147552273755224e+00 1.0e+00 9.83e-02  1e-01  1e-01 2:22.4\n",
            "   26    832 -1.263174968122897e+01 1.0e+00 9.81e-02  1e-01  1e-01 2:41.3\n",
            "   29    928 -2.228160607976449e+01 1.0e+00 9.80e-02  1e-01  1e-01 3:00.0\n",
            "   32   1024 -3.807638224632981e+00 1.0e+00 9.78e-02  1e-01  1e-01 3:18.9\n",
            "   35   1120 -2.775702916247963e+01 1.0e+00 9.76e-02  1e-01  1e-01 3:39.2\n",
            "   38   1216 4.208435037241941e+00 1.0e+00 9.74e-02  1e-01  1e-01 3:57.7\n"
          ]
        }
      ],
      "source": [
        "for i in range(20):\n",
        "    solutions = np.array(es.ask())\n",
        "    fits = [fitness(x, ann, env) for x in solutions]\n",
        "    es.tell(solutions, fits)\n",
        "    es.disp()"
      ]
    },
    {
      "cell_type": "code",
      "execution_count": 88,
      "metadata": {
        "id": "TOikg1p5o7Py",
        "outputId": "cf450f29-b56a-4863-8a23-8b4c8d4be6a7",
        "colab": {
          "base_uri": "https://localhost:8080/",
          "height": 550
        }
      },
      "outputs": [
        {
          "output_type": "execute_result",
          "data": {
            "text/plain": [
              "np.float64(67.0947258786448)"
            ]
          },
          "metadata": {},
          "execution_count": 88
        }
      ],
      "source": [
        "x = es.result[0]\n",
        "-fitness(x, ann, env, visul=True)"
      ]
    },
    {
      "cell_type": "markdown",
      "metadata": {
        "id": "7Qx8B9Qxo7Py"
      },
      "source": [
        "The results on LunarLander clearly show the benefits of CMA-ES; we have found a reasonable policy in a small number of generations. Applying CMA-ES to larger neural networks remains an open challenge, however, due to the vast number of parameters in ANNs. Specifically, CMA-ES calculates the covariance of all parameters, which is $O(n^2)$."
      ]
    },
    {
      "cell_type": "code",
      "execution_count": 75,
      "metadata": {
        "id": "rHn4GUUfo7Py",
        "outputId": "b7ff8483-9721-4dc8-9129-b1968cfc65d0",
        "colab": {
          "base_uri": "https://localhost:8080/"
        }
      },
      "outputs": [
        {
          "output_type": "execute_result",
          "data": {
            "text/plain": [
              "(3588, 3588)"
            ]
          },
          "metadata": {},
          "execution_count": 75
        }
      ],
      "source": [
        "np.shape(es.sm.C)"
      ]
    },
    {
      "cell_type": "markdown",
      "metadata": {
        "id": "MvTCkjkKo7Pz"
      },
      "source": [
        "<div class=\"alert alert-success\">\n",
        "    <h3>Exercise 1</h3>\n",
        "    \n",
        "The network used has 2 layers of 32 neurons each. Try changing this and noticing the impact on the number of total parameters for CMA-ES. How large of a network can CMA-ES optimize?\n",
        "</div>"
      ]
    },
    {
      "cell_type": "markdown",
      "metadata": {
        "id": "kdzW9_jko7Pz"
      },
      "source": [
        "<div class=\"alert alert-success\">\n",
        "    <h3>Exercise 2</h3>\n",
        "    \n",
        "Compare the $(1+\\lambda)$ ES, $(\\mu,\\lambda)$ ES, and CMA-ES algorithms on Lunar Lander. Is one significantly better than the others, consistently across different initializations?\n",
        "</div>"
      ]
    },
    {
      "cell_type": "code",
      "execution_count": null,
      "metadata": {
        "id": "eAHHt4Ldo7Pz"
      },
      "outputs": [],
      "source": []
    }
  ],
  "metadata": {
    "@webio": {
      "lastCommId": null,
      "lastKernelId": null
    },
    "celltoolbar": "Slideshow",
    "kernelspec": {
      "display_name": "evolutionaryClass",
      "language": "python",
      "name": "evolutionaryclass"
    },
    "language_info": {
      "codemirror_mode": {
        "name": "ipython",
        "version": 3
      },
      "file_extension": ".py",
      "mimetype": "text/x-python",
      "name": "python",
      "nbconvert_exporter": "python",
      "pygments_lexer": "ipython3",
      "version": "3.11.4"
    },
    "colab": {
      "provenance": []
    }
  },
  "nbformat": 4,
  "nbformat_minor": 0
}